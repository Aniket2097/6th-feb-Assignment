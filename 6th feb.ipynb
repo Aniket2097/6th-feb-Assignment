{
 "cells": [
  {
   "cell_type": "markdown",
   "id": "99df9115-2fea-4e64-b7c3-33c21526c1b8",
   "metadata": {},
   "source": [
    "Q1. Create a function which will take a list as an argument and return the product of all the numbers after creating a flat list. Use the below-given list as an argument for your function. list1 = [1,2,3,4, [44,55,66, True], False, (34,56,78,89,34), {1,2,3,3,2,1}, {1:34, \"key2\": [55, 67, 78, 89], 4: (45,22, 61, 34)}, [56, 'data science'], 'Machine Learning']"
   ]
  },
  {
   "cell_type": "code",
   "execution_count": 1,
   "id": "66ad436c-13e3-425a-b83a-2212a8591837",
   "metadata": {},
   "outputs": [],
   "source": [
    "def flat_List_Creation(lst):\n",
    "    \"\"\"Function for creating a flat list from the given iterable\"\"\"\n",
    "    \n",
    "    flat_lst = []\n",
    "    \n",
    "    for item in lst:\n",
    "        \n",
    "        if isinstance(item, (int, float, str)):\n",
    "            flat_lst.append(item)\n",
    "            \n",
    "        elif isinstance(item, dict):\n",
    "            for key, value in item.items():\n",
    "                if isinstance(key, (int, float, str)):\n",
    "                    flat_lst.append(key)\n",
    "                else:\n",
    "                    flat_lst.extend(flat_List_Creation(key))\n",
    "                    \n",
    "                if isinstance(value, (int, float, str)):\n",
    "                    flat_lst.append(value)\n",
    "                else:\n",
    "                    flat_lst.extend(flat_List_Creation(value))\n",
    "            \n",
    "        else:\n",
    "            flat_lst.extend(flat_List_Creation(item))\n",
    "            \n",
    "    return flat_lst\n",
    "def num_Product(flat_lst):\n",
    "    \"\"\"Function to calculate the product of all numbers in the flat list\"\"\"\n",
    "    product = 1\n",
    "    \n",
    "    for ele in flat_lst:\n",
    "        \n",
    "        if type(ele) == int or type(ele) == float:\n",
    "            product *= ele\n",
    "       \n",
    "    print(f\"\\nProduct is: {product}\")"
   ]
  },
  {
   "cell_type": "code",
   "execution_count": 2,
   "id": "e55b83a0-fb11-4e4d-930b-2e533f051410",
   "metadata": {},
   "outputs": [
    {
     "name": "stdout",
     "output_type": "stream",
     "text": [
      "Flat list : [1, 2, 3, 4, 44, 55, 66, True, False, 34, 56, 78, 89, 34, 1, 2, 3, 1, 34, 'key2', 55, 67, 78, 89, 4, 45, 22, 61, 34, 56, 'data science', 'Machine Learning']\n",
      "\n",
      "Product is: 4134711838987085478833841242112000\n"
     ]
    }
   ],
   "source": [
    "list1 = [1,2,3,4, [44,55,66, True], False, (34,56,78,89,34), {1,2,3,3,2,1}, {1:34, \"key2\": [55, 67, 78, 89], 4: (45,22, 61, 34)}, [56, 'data science'], 'Machine Learning']\n",
    "flat_List_Creation(list1)\n",
    "flat_lst = flat_List_Creation(list1) \n",
    "print(f\"Flat list : {flat_lst}\")\n",
    "num_Product(flat_lst)"
   ]
  },
  {
   "cell_type": "code",
   "execution_count": null,
   "id": "c9fd564d-102a-42b0-82c1-5db5571b1298",
   "metadata": {},
   "outputs": [],
   "source": []
  },
  {
   "cell_type": "code",
   "execution_count": null,
   "id": "c6011d13-c6ca-4335-adfe-969dab154d85",
   "metadata": {},
   "outputs": [],
   "source": []
  },
  {
   "cell_type": "markdown",
   "id": "9af78092-d716-4c14-8426-56fd47f75521",
   "metadata": {},
   "source": [
    "Q2. Write a python program for encrypting a message sent to you by your friend. The logic of encryption should be such that, for a the output should be z. For b, the output should be y. For c, the output should be x respectively. Also, the whitespace should be replaced with a dollar sign. Keep the punctuation marks unchanged."
   ]
  },
  {
   "cell_type": "markdown",
   "id": "552c01c9-b594-4547-be7a-5bb8872e4e51",
   "metadata": {},
   "source": [
    "Input Sentence: I want to become a Data Scientist. Encrypt the above input sentence using the program you just created. Note: Convert the given input sentence into lowercase before encrypting. The final output should be lowercase."
   ]
  },
  {
   "cell_type": "code",
   "execution_count": 3,
   "id": "672aeebc-d259-43ad-ab10-7658009113cb",
   "metadata": {},
   "outputs": [
    {
     "name": "stdout",
     "output_type": "stream",
     "text": [
      " The encrypted msg is : r$dzmg$gl$yvxlnv$z$wzgz$hxrvmgrhg.\n"
     ]
    }
   ],
   "source": [
    "def encrypt(msg):\n",
    "    encrypt_code = {\"a\": \"z\", \"b\": \"y\", \"c\": \"x\", \"d\": \"w\", \"e\": \"v\",\"f\": \"u\",\"g\": \"t\",\"h\": \"s\",\n",
    "                       \"i\": \"r\",\"j\": \"q\",\"k\": \"p\",\"l\": \"o\",\"m\": \"n\",\"n\": \"m\",\"o\": \"l\",\"p\": \"k\",\n",
    "                       \"q\": \"j\",\"r\": \"i\",\"s\": \"h\",\"t\": \"g\",\"u\": \"f\",\"v\": \"e\",\"w\": \"d\",\"x\": \"c\",\n",
    "                       \"y\": \"b\",\"z\": \"a\"}\n",
    "    msg = msg.lower()\n",
    "    encrypted_msg = \"\"\n",
    "    for char in (msg):\n",
    "        if char.isalpha():\n",
    "            char = encrypt_code[char]\n",
    "        elif char == \" \":\n",
    "            char = \"$\"\n",
    "        encrypted_msg += char\n",
    "    return encrypted_msg\n",
    "\n",
    "msg = \"I want to become a Data Scientist.\"\n",
    "print(\" The encrypted msg is :\", encrypt(msg))\n",
    "            \n",
    "            "
   ]
  },
  {
   "cell_type": "code",
   "execution_count": null,
   "id": "d4ecac16-0b01-4aa4-98bd-23cbf7e01b59",
   "metadata": {},
   "outputs": [],
   "source": []
  },
  {
   "cell_type": "code",
   "execution_count": null,
   "id": "9a948e9a-2941-4470-9298-265f29f01a85",
   "metadata": {},
   "outputs": [],
   "source": []
  },
  {
   "cell_type": "markdown",
   "id": "87e74618-b6ec-4589-a495-45cc5d3bf7bd",
   "metadata": {},
   "source": [
    "the end"
   ]
  }
 ],
 "metadata": {
  "kernelspec": {
   "display_name": "Python 3 (ipykernel)",
   "language": "python",
   "name": "python3"
  },
  "language_info": {
   "codemirror_mode": {
    "name": "ipython",
    "version": 3
   },
   "file_extension": ".py",
   "mimetype": "text/x-python",
   "name": "python",
   "nbconvert_exporter": "python",
   "pygments_lexer": "ipython3",
   "version": "3.10.8"
  }
 },
 "nbformat": 4,
 "nbformat_minor": 5
}
